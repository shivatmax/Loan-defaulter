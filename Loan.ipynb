{
  "nbformat": 4,
  "nbformat_minor": 0,
  "metadata": {
    "colab": {
      "provenance": []
    },
    "kernelspec": {
      "name": "python3",
      "display_name": "Python 3"
    },
    "language_info": {
      "name": "python"
    }
  },
  "cells": [
    {
      "cell_type": "markdown",
      "source": [
        "# **Loan Repayment Prediction Project**\n",
        "\n",
        "### **Objective**\n",
        "\n",
        "Predict whether a borrower will repay or default on a loan using user attributes and GPS data."
      ],
      "metadata": {
        "id": "XbddkYF4_8AM"
      }
    },
    {
      "cell_type": "markdown",
      "source": [
        "### **`1. Import Libraries`**\n"
      ],
      "metadata": {
        "id": "TiZTn3uAAZVF"
      }
    },
    {
      "cell_type": "code",
      "source": [
        "!pip install catboost"
      ],
      "metadata": {
        "colab": {
          "base_uri": "https://localhost:8080/"
        },
        "id": "Q3fcAW1tpPb2",
        "outputId": "e0a3d4c2-c078-412b-84e8-82745b39ae3e"
      },
      "execution_count": 2,
      "outputs": [
        {
          "output_type": "stream",
          "name": "stdout",
          "text": [
            "Collecting catboost\n",
            "  Downloading catboost-1.2.7-cp310-cp310-manylinux2014_x86_64.whl.metadata (1.2 kB)\n",
            "Requirement already satisfied: graphviz in /usr/local/lib/python3.10/dist-packages (from catboost) (0.20.3)\n",
            "Requirement already satisfied: matplotlib in /usr/local/lib/python3.10/dist-packages (from catboost) (3.8.0)\n",
            "Requirement already satisfied: numpy<2.0,>=1.16.0 in /usr/local/lib/python3.10/dist-packages (from catboost) (1.26.4)\n",
            "Requirement already satisfied: pandas>=0.24 in /usr/local/lib/python3.10/dist-packages (from catboost) (2.2.2)\n",
            "Requirement already satisfied: scipy in /usr/local/lib/python3.10/dist-packages (from catboost) (1.13.1)\n",
            "Requirement already satisfied: plotly in /usr/local/lib/python3.10/dist-packages (from catboost) (5.24.1)\n",
            "Requirement already satisfied: six in /usr/local/lib/python3.10/dist-packages (from catboost) (1.17.0)\n",
            "Requirement already satisfied: python-dateutil>=2.8.2 in /usr/local/lib/python3.10/dist-packages (from pandas>=0.24->catboost) (2.8.2)\n",
            "Requirement already satisfied: pytz>=2020.1 in /usr/local/lib/python3.10/dist-packages (from pandas>=0.24->catboost) (2024.2)\n",
            "Requirement already satisfied: tzdata>=2022.7 in /usr/local/lib/python3.10/dist-packages (from pandas>=0.24->catboost) (2024.2)\n",
            "Requirement already satisfied: contourpy>=1.0.1 in /usr/local/lib/python3.10/dist-packages (from matplotlib->catboost) (1.3.1)\n",
            "Requirement already satisfied: cycler>=0.10 in /usr/local/lib/python3.10/dist-packages (from matplotlib->catboost) (0.12.1)\n",
            "Requirement already satisfied: fonttools>=4.22.0 in /usr/local/lib/python3.10/dist-packages (from matplotlib->catboost) (4.55.3)\n",
            "Requirement already satisfied: kiwisolver>=1.0.1 in /usr/local/lib/python3.10/dist-packages (from matplotlib->catboost) (1.4.7)\n",
            "Requirement already satisfied: packaging>=20.0 in /usr/local/lib/python3.10/dist-packages (from matplotlib->catboost) (24.2)\n",
            "Requirement already satisfied: pillow>=6.2.0 in /usr/local/lib/python3.10/dist-packages (from matplotlib->catboost) (11.0.0)\n",
            "Requirement already satisfied: pyparsing>=2.3.1 in /usr/local/lib/python3.10/dist-packages (from matplotlib->catboost) (3.2.0)\n",
            "Requirement already satisfied: tenacity>=6.2.0 in /usr/local/lib/python3.10/dist-packages (from plotly->catboost) (9.0.0)\n",
            "Downloading catboost-1.2.7-cp310-cp310-manylinux2014_x86_64.whl (98.7 MB)\n",
            "\u001b[2K   \u001b[90m━━━━━━━━━━━━━━━━━━━━━━━━━━━━━━━━━━━━━━━━\u001b[0m \u001b[32m98.7/98.7 MB\u001b[0m \u001b[31m8.1 MB/s\u001b[0m eta \u001b[36m0:00:00\u001b[0m\n",
            "\u001b[?25hInstalling collected packages: catboost\n",
            "Successfully installed catboost-1.2.7\n"
          ]
        }
      ]
    },
    {
      "cell_type": "code",
      "execution_count": 3,
      "metadata": {
        "id": "yLX_dXI_o56U"
      },
      "outputs": [],
      "source": [
        "# Import necessary libraries\n",
        "import pandas as pd\n",
        "import numpy as np\n",
        "import psycopg2\n",
        "from sqlalchemy import create_engine\n",
        "import matplotlib.pyplot as plt\n",
        "import seaborn as sns\n",
        "\n",
        "# Machine Learning libraries\n",
        "from sklearn.model_selection import train_test_split, GridSearchCV\n",
        "from sklearn.preprocessing import StandardScaler, LabelEncoder\n",
        "from sklearn.metrics import (\n",
        "    classification_report,\n",
        "    confusion_matrix,\n",
        "    roc_auc_score,\n",
        "    roc_curve,\n",
        "    accuracy_score,\n",
        ")\n",
        "from sklearn.ensemble import RandomForestClassifier\n",
        "from catboost import CatBoostClassifier\n",
        "from sklearn.neural_network import MLPClassifier\n",
        "\n",
        "# Ignore warnings\n",
        "import warnings\n",
        "warnings.filterwarnings('ignore')"
      ]
    },
    {
      "cell_type": "markdown",
      "source": [
        "## **2. Connect to Database and Load Data**"
      ],
      "metadata": {
        "id": "KurpDcANAmTG"
      }
    },
    {
      "cell_type": "code",
      "source": [
        "# Database credentials\n",
        "db_config = {\n",
        "    'host': 'branchhomeworkdb.cv8nj4hg6yra.ap-south-1.rds.amazonaws.com',\n",
        "    'port': 5432,\n",
        "    'user': 'datascientist',\n",
        "    'password': '47eyYBLT0laW5j9U24Uuy8gLcrN',\n",
        "    'database': 'branchdsprojectgps'\n",
        "}\n",
        "\n",
        "# Create connection string\n",
        "conn_string = f\"postgresql://{db_config['user']}:{db_config['password']}@\" \\\n",
        "              f\"{db_config['host']}:{db_config['port']}/{db_config['database']}\"\n",
        "\n",
        "# Create an engine\n",
        "engine = create_engine(conn_string)\n",
        "\n",
        "# Load tables into DataFrames\n",
        "loan_outcomes = pd.read_sql('SELECT * FROM loan_outcomes;', engine)\n",
        "gps_fixes = pd.read_sql('SELECT * FROM gps_fixes;', engine)\n",
        "user_attributes = pd.read_sql('SELECT * FROM user_attributes;', engine)"
      ],
      "metadata": {
        "id": "BbnVgHpspe6m"
      },
      "execution_count": 4,
      "outputs": []
    },
    {
      "cell_type": "markdown",
      "source": [
        "## **Data Exploration**\n",
        "\n",
        "### inspect dataframes"
      ],
      "metadata": {
        "id": "VX4TnCzxAvWk"
      }
    },
    {
      "cell_type": "code",
      "source": [
        "# Display first few rows of loan_outcomes\n",
        "loan_outcomes.head()\n",
        "# Display first few rows of user_attributes\n",
        "user_attributes.head()\n",
        "# Display first few rows of gps_fixes\n",
        "gps_fixes.head()"
      ],
      "metadata": {
        "colab": {
          "base_uri": "https://localhost:8080/",
          "height": 313
        },
        "id": "UgW1xqUZphhE",
        "outputId": "c336f922-2dee-43f2-8db5-af8ebf27c6da"
      },
      "execution_count": 5,
      "outputs": [
        {
          "output_type": "execute_result",
          "data": {
            "text/plain": [
              "           gps_fix_at    server_upload_at  longitude  latitude  accuracy  \\\n",
              "0 2017-06-22 09:37:20 2017-06-22 09:43:42  36.840540 -1.294342      68.4   \n",
              "1 2017-08-14 07:50:27 2017-08-14 09:05:27  36.895270 -1.341928    1409.0   \n",
              "2 2017-06-13 10:34:29 2017-06-13 10:54:48  36.811903 -1.307220      68.4   \n",
              "3 2017-06-18 12:16:20 2017-06-18 12:16:24  36.907049 -1.309984    1581.0   \n",
              "4 2017-06-28 09:39:08 2017-06-28 09:58:12  36.839396 -1.280310    1396.0   \n",
              "\n",
              "   altitude  bearing location_provider  user_id  \n",
              "0       0.0      0.0             fused        1  \n",
              "1       0.0      0.0             fused        1  \n",
              "2       0.0      0.0             fused        1  \n",
              "3       0.0      0.0             fused        1  \n",
              "4       0.0      0.0             fused        1  "
            ],
            "text/html": [
              "\n",
              "  <div id=\"df-5b2c6aeb-e4c1-461d-9936-19e110b4fff1\" class=\"colab-df-container\">\n",
              "    <div>\n",
              "<style scoped>\n",
              "    .dataframe tbody tr th:only-of-type {\n",
              "        vertical-align: middle;\n",
              "    }\n",
              "\n",
              "    .dataframe tbody tr th {\n",
              "        vertical-align: top;\n",
              "    }\n",
              "\n",
              "    .dataframe thead th {\n",
              "        text-align: right;\n",
              "    }\n",
              "</style>\n",
              "<table border=\"1\" class=\"dataframe\">\n",
              "  <thead>\n",
              "    <tr style=\"text-align: right;\">\n",
              "      <th></th>\n",
              "      <th>gps_fix_at</th>\n",
              "      <th>server_upload_at</th>\n",
              "      <th>longitude</th>\n",
              "      <th>latitude</th>\n",
              "      <th>accuracy</th>\n",
              "      <th>altitude</th>\n",
              "      <th>bearing</th>\n",
              "      <th>location_provider</th>\n",
              "      <th>user_id</th>\n",
              "    </tr>\n",
              "  </thead>\n",
              "  <tbody>\n",
              "    <tr>\n",
              "      <th>0</th>\n",
              "      <td>2017-06-22 09:37:20</td>\n",
              "      <td>2017-06-22 09:43:42</td>\n",
              "      <td>36.840540</td>\n",
              "      <td>-1.294342</td>\n",
              "      <td>68.4</td>\n",
              "      <td>0.0</td>\n",
              "      <td>0.0</td>\n",
              "      <td>fused</td>\n",
              "      <td>1</td>\n",
              "    </tr>\n",
              "    <tr>\n",
              "      <th>1</th>\n",
              "      <td>2017-08-14 07:50:27</td>\n",
              "      <td>2017-08-14 09:05:27</td>\n",
              "      <td>36.895270</td>\n",
              "      <td>-1.341928</td>\n",
              "      <td>1409.0</td>\n",
              "      <td>0.0</td>\n",
              "      <td>0.0</td>\n",
              "      <td>fused</td>\n",
              "      <td>1</td>\n",
              "    </tr>\n",
              "    <tr>\n",
              "      <th>2</th>\n",
              "      <td>2017-06-13 10:34:29</td>\n",
              "      <td>2017-06-13 10:54:48</td>\n",
              "      <td>36.811903</td>\n",
              "      <td>-1.307220</td>\n",
              "      <td>68.4</td>\n",
              "      <td>0.0</td>\n",
              "      <td>0.0</td>\n",
              "      <td>fused</td>\n",
              "      <td>1</td>\n",
              "    </tr>\n",
              "    <tr>\n",
              "      <th>3</th>\n",
              "      <td>2017-06-18 12:16:20</td>\n",
              "      <td>2017-06-18 12:16:24</td>\n",
              "      <td>36.907049</td>\n",
              "      <td>-1.309984</td>\n",
              "      <td>1581.0</td>\n",
              "      <td>0.0</td>\n",
              "      <td>0.0</td>\n",
              "      <td>fused</td>\n",
              "      <td>1</td>\n",
              "    </tr>\n",
              "    <tr>\n",
              "      <th>4</th>\n",
              "      <td>2017-06-28 09:39:08</td>\n",
              "      <td>2017-06-28 09:58:12</td>\n",
              "      <td>36.839396</td>\n",
              "      <td>-1.280310</td>\n",
              "      <td>1396.0</td>\n",
              "      <td>0.0</td>\n",
              "      <td>0.0</td>\n",
              "      <td>fused</td>\n",
              "      <td>1</td>\n",
              "    </tr>\n",
              "  </tbody>\n",
              "</table>\n",
              "</div>\n",
              "    <div class=\"colab-df-buttons\">\n",
              "\n",
              "  <div class=\"colab-df-container\">\n",
              "    <button class=\"colab-df-convert\" onclick=\"convertToInteractive('df-5b2c6aeb-e4c1-461d-9936-19e110b4fff1')\"\n",
              "            title=\"Convert this dataframe to an interactive table.\"\n",
              "            style=\"display:none;\">\n",
              "\n",
              "  <svg xmlns=\"http://www.w3.org/2000/svg\" height=\"24px\" viewBox=\"0 -960 960 960\">\n",
              "    <path d=\"M120-120v-720h720v720H120Zm60-500h600v-160H180v160Zm220 220h160v-160H400v160Zm0 220h160v-160H400v160ZM180-400h160v-160H180v160Zm440 0h160v-160H620v160ZM180-180h160v-160H180v160Zm440 0h160v-160H620v160Z\"/>\n",
              "  </svg>\n",
              "    </button>\n",
              "\n",
              "  <style>\n",
              "    .colab-df-container {\n",
              "      display:flex;\n",
              "      gap: 12px;\n",
              "    }\n",
              "\n",
              "    .colab-df-convert {\n",
              "      background-color: #E8F0FE;\n",
              "      border: none;\n",
              "      border-radius: 50%;\n",
              "      cursor: pointer;\n",
              "      display: none;\n",
              "      fill: #1967D2;\n",
              "      height: 32px;\n",
              "      padding: 0 0 0 0;\n",
              "      width: 32px;\n",
              "    }\n",
              "\n",
              "    .colab-df-convert:hover {\n",
              "      background-color: #E2EBFA;\n",
              "      box-shadow: 0px 1px 2px rgba(60, 64, 67, 0.3), 0px 1px 3px 1px rgba(60, 64, 67, 0.15);\n",
              "      fill: #174EA6;\n",
              "    }\n",
              "\n",
              "    .colab-df-buttons div {\n",
              "      margin-bottom: 4px;\n",
              "    }\n",
              "\n",
              "    [theme=dark] .colab-df-convert {\n",
              "      background-color: #3B4455;\n",
              "      fill: #D2E3FC;\n",
              "    }\n",
              "\n",
              "    [theme=dark] .colab-df-convert:hover {\n",
              "      background-color: #434B5C;\n",
              "      box-shadow: 0px 1px 3px 1px rgba(0, 0, 0, 0.15);\n",
              "      filter: drop-shadow(0px 1px 2px rgba(0, 0, 0, 0.3));\n",
              "      fill: #FFFFFF;\n",
              "    }\n",
              "  </style>\n",
              "\n",
              "    <script>\n",
              "      const buttonEl =\n",
              "        document.querySelector('#df-5b2c6aeb-e4c1-461d-9936-19e110b4fff1 button.colab-df-convert');\n",
              "      buttonEl.style.display =\n",
              "        google.colab.kernel.accessAllowed ? 'block' : 'none';\n",
              "\n",
              "      async function convertToInteractive(key) {\n",
              "        const element = document.querySelector('#df-5b2c6aeb-e4c1-461d-9936-19e110b4fff1');\n",
              "        const dataTable =\n",
              "          await google.colab.kernel.invokeFunction('convertToInteractive',\n",
              "                                                    [key], {});\n",
              "        if (!dataTable) return;\n",
              "\n",
              "        const docLinkHtml = 'Like what you see? Visit the ' +\n",
              "          '<a target=\"_blank\" href=https://colab.research.google.com/notebooks/data_table.ipynb>data table notebook</a>'\n",
              "          + ' to learn more about interactive tables.';\n",
              "        element.innerHTML = '';\n",
              "        dataTable['output_type'] = 'display_data';\n",
              "        await google.colab.output.renderOutput(dataTable, element);\n",
              "        const docLink = document.createElement('div');\n",
              "        docLink.innerHTML = docLinkHtml;\n",
              "        element.appendChild(docLink);\n",
              "      }\n",
              "    </script>\n",
              "  </div>\n",
              "\n",
              "\n",
              "<div id=\"df-85fd3702-1fd7-4d00-8cf3-cf086c6f1203\">\n",
              "  <button class=\"colab-df-quickchart\" onclick=\"quickchart('df-85fd3702-1fd7-4d00-8cf3-cf086c6f1203')\"\n",
              "            title=\"Suggest charts\"\n",
              "            style=\"display:none;\">\n",
              "\n",
              "<svg xmlns=\"http://www.w3.org/2000/svg\" height=\"24px\"viewBox=\"0 0 24 24\"\n",
              "     width=\"24px\">\n",
              "    <g>\n",
              "        <path d=\"M19 3H5c-1.1 0-2 .9-2 2v14c0 1.1.9 2 2 2h14c1.1 0 2-.9 2-2V5c0-1.1-.9-2-2-2zM9 17H7v-7h2v7zm4 0h-2V7h2v10zm4 0h-2v-4h2v4z\"/>\n",
              "    </g>\n",
              "</svg>\n",
              "  </button>\n",
              "\n",
              "<style>\n",
              "  .colab-df-quickchart {\n",
              "      --bg-color: #E8F0FE;\n",
              "      --fill-color: #1967D2;\n",
              "      --hover-bg-color: #E2EBFA;\n",
              "      --hover-fill-color: #174EA6;\n",
              "      --disabled-fill-color: #AAA;\n",
              "      --disabled-bg-color: #DDD;\n",
              "  }\n",
              "\n",
              "  [theme=dark] .colab-df-quickchart {\n",
              "      --bg-color: #3B4455;\n",
              "      --fill-color: #D2E3FC;\n",
              "      --hover-bg-color: #434B5C;\n",
              "      --hover-fill-color: #FFFFFF;\n",
              "      --disabled-bg-color: #3B4455;\n",
              "      --disabled-fill-color: #666;\n",
              "  }\n",
              "\n",
              "  .colab-df-quickchart {\n",
              "    background-color: var(--bg-color);\n",
              "    border: none;\n",
              "    border-radius: 50%;\n",
              "    cursor: pointer;\n",
              "    display: none;\n",
              "    fill: var(--fill-color);\n",
              "    height: 32px;\n",
              "    padding: 0;\n",
              "    width: 32px;\n",
              "  }\n",
              "\n",
              "  .colab-df-quickchart:hover {\n",
              "    background-color: var(--hover-bg-color);\n",
              "    box-shadow: 0 1px 2px rgba(60, 64, 67, 0.3), 0 1px 3px 1px rgba(60, 64, 67, 0.15);\n",
              "    fill: var(--button-hover-fill-color);\n",
              "  }\n",
              "\n",
              "  .colab-df-quickchart-complete:disabled,\n",
              "  .colab-df-quickchart-complete:disabled:hover {\n",
              "    background-color: var(--disabled-bg-color);\n",
              "    fill: var(--disabled-fill-color);\n",
              "    box-shadow: none;\n",
              "  }\n",
              "\n",
              "  .colab-df-spinner {\n",
              "    border: 2px solid var(--fill-color);\n",
              "    border-color: transparent;\n",
              "    border-bottom-color: var(--fill-color);\n",
              "    animation:\n",
              "      spin 1s steps(1) infinite;\n",
              "  }\n",
              "\n",
              "  @keyframes spin {\n",
              "    0% {\n",
              "      border-color: transparent;\n",
              "      border-bottom-color: var(--fill-color);\n",
              "      border-left-color: var(--fill-color);\n",
              "    }\n",
              "    20% {\n",
              "      border-color: transparent;\n",
              "      border-left-color: var(--fill-color);\n",
              "      border-top-color: var(--fill-color);\n",
              "    }\n",
              "    30% {\n",
              "      border-color: transparent;\n",
              "      border-left-color: var(--fill-color);\n",
              "      border-top-color: var(--fill-color);\n",
              "      border-right-color: var(--fill-color);\n",
              "    }\n",
              "    40% {\n",
              "      border-color: transparent;\n",
              "      border-right-color: var(--fill-color);\n",
              "      border-top-color: var(--fill-color);\n",
              "    }\n",
              "    60% {\n",
              "      border-color: transparent;\n",
              "      border-right-color: var(--fill-color);\n",
              "    }\n",
              "    80% {\n",
              "      border-color: transparent;\n",
              "      border-right-color: var(--fill-color);\n",
              "      border-bottom-color: var(--fill-color);\n",
              "    }\n",
              "    90% {\n",
              "      border-color: transparent;\n",
              "      border-bottom-color: var(--fill-color);\n",
              "    }\n",
              "  }\n",
              "</style>\n",
              "\n",
              "  <script>\n",
              "    async function quickchart(key) {\n",
              "      const quickchartButtonEl =\n",
              "        document.querySelector('#' + key + ' button');\n",
              "      quickchartButtonEl.disabled = true;  // To prevent multiple clicks.\n",
              "      quickchartButtonEl.classList.add('colab-df-spinner');\n",
              "      try {\n",
              "        const charts = await google.colab.kernel.invokeFunction(\n",
              "            'suggestCharts', [key], {});\n",
              "      } catch (error) {\n",
              "        console.error('Error during call to suggestCharts:', error);\n",
              "      }\n",
              "      quickchartButtonEl.classList.remove('colab-df-spinner');\n",
              "      quickchartButtonEl.classList.add('colab-df-quickchart-complete');\n",
              "    }\n",
              "    (() => {\n",
              "      let quickchartButtonEl =\n",
              "        document.querySelector('#df-85fd3702-1fd7-4d00-8cf3-cf086c6f1203 button');\n",
              "      quickchartButtonEl.style.display =\n",
              "        google.colab.kernel.accessAllowed ? 'block' : 'none';\n",
              "    })();\n",
              "  </script>\n",
              "</div>\n",
              "\n",
              "    </div>\n",
              "  </div>\n"
            ],
            "application/vnd.google.colaboratory.intrinsic+json": {
              "type": "dataframe",
              "variable_name": "gps_fixes",
              "summary": "{\n  \"name\": \"gps_fixes\",\n  \"rows\": 26710,\n  \"fields\": [\n    {\n      \"column\": \"gps_fix_at\",\n      \"properties\": {\n        \"dtype\": \"date\",\n        \"min\": \"1970-01-05 08:19:04\",\n        \"max\": \"2050-02-24 16:27:12\",\n        \"num_unique_values\": 22057,\n        \"samples\": [\n          \"2018-03-08 11:54:42\",\n          \"2018-12-12 08:00:43\",\n          \"2017-11-16 04:43:11\"\n        ],\n        \"semantic_type\": \"\",\n        \"description\": \"\"\n      }\n    },\n    {\n      \"column\": \"server_upload_at\",\n      \"properties\": {\n        \"dtype\": \"date\",\n        \"min\": \"2016-04-13 06:12:42\",\n        \"max\": \"2019-01-11 10:42:39\",\n        \"num_unique_values\": 22274,\n        \"samples\": [\n          \"2018-12-08 04:50:40\",\n          \"2016-12-31 13:23:32\",\n          \"2016-12-09 12:00:34\"\n        ],\n        \"semantic_type\": \"\",\n        \"description\": \"\"\n      }\n    },\n    {\n      \"column\": \"longitude\",\n      \"properties\": {\n        \"dtype\": \"number\",\n        \"std\": 4.172315047862553,\n        \"min\": -85.232791,\n        \"max\": 117.058355,\n        \"num_unique_values\": 26297,\n        \"samples\": [\n          34.619496,\n          37.047907,\n          36.988289\n        ],\n        \"semantic_type\": \"\",\n        \"description\": \"\"\n      }\n    },\n    {\n      \"column\": \"latitude\",\n      \"properties\": {\n        \"dtype\": \"number\",\n        \"std\": 1.8509202888462029,\n        \"min\": -24.645763,\n        \"max\": 56.242041,\n        \"num_unique_values\": 26069,\n        \"samples\": [\n          0.668259,\n          -1.290934,\n          -1.330089\n        ],\n        \"semantic_type\": \"\",\n        \"description\": \"\"\n      }\n    },\n    {\n      \"column\": \"accuracy\",\n      \"properties\": {\n        \"dtype\": \"number\",\n        \"std\": 19053.80339669924,\n        \"min\": -2147462.8,\n        \"max\": 645155.3,\n        \"num_unique_values\": 5065,\n        \"samples\": [\n          1576.0,\n          2181.0,\n          3151.0\n        ],\n        \"semantic_type\": \"\",\n        \"description\": \"\"\n      }\n    },\n    {\n      \"column\": \"altitude\",\n      \"properties\": {\n        \"dtype\": \"number\",\n        \"std\": 646.5120688100744,\n        \"min\": -161.7,\n        \"max\": 3012.9,\n        \"num_unique_values\": 2972,\n        \"samples\": [\n          1566.2,\n          1820.2,\n          1533.95\n        ],\n        \"semantic_type\": \"\",\n        \"description\": \"\"\n      }\n    },\n    {\n      \"column\": \"bearing\",\n      \"properties\": {\n        \"dtype\": \"number\",\n        \"std\": 57.378466966933004,\n        \"min\": -1.0,\n        \"max\": 359.44,\n        \"num_unique_values\": 796,\n        \"samples\": [\n          69.01,\n          203.73,\n          240.0\n        ],\n        \"semantic_type\": \"\",\n        \"description\": \"\"\n      }\n    },\n    {\n      \"column\": \"location_provider\",\n      \"properties\": {\n        \"dtype\": \"category\",\n        \"num_unique_values\": 4,\n        \"samples\": [\n          \"gps\",\n          \"local_database\",\n          \"fused\"\n        ],\n        \"semantic_type\": \"\",\n        \"description\": \"\"\n      }\n    },\n    {\n      \"column\": \"user_id\",\n      \"properties\": {\n        \"dtype\": \"number\",\n        \"std\": 108,\n        \"min\": 1,\n        \"max\": 400,\n        \"num_unique_values\": 372,\n        \"samples\": [\n          355,\n          37,\n          17\n        ],\n        \"semantic_type\": \"\",\n        \"description\": \"\"\n      }\n    }\n  ]\n}"
            }
          },
          "metadata": {},
          "execution_count": 5
        }
      ]
    },
    {
      "cell_type": "markdown",
      "source": [
        "### **Check for Missing Values**"
      ],
      "metadata": {
        "id": "RbvLF6rYBD6R"
      }
    },
    {
      "cell_type": "code",
      "source": [
        "# Check missing values in loan_outcomes\n",
        "print(\"Missing values in loan_outcomes:\")\n",
        "print(loan_outcomes.isnull().sum())\n",
        "\n",
        "# Check missing values in user_attributes\n",
        "print(\"\\nMissing values in user_attributes:\")\n",
        "print(user_attributes.isnull().sum())\n",
        "\n",
        "# Check missing values in gps_fixes\n",
        "print(\"\\nMissing values in gps_fixes:\")\n",
        "print(gps_fixes.isnull().sum())"
      ],
      "metadata": {
        "colab": {
          "base_uri": "https://localhost:8080/"
        },
        "id": "d2PpYUQopnWj",
        "outputId": "6b0b7680-0375-4708-e972-56b052dca1d0"
      },
      "execution_count": 6,
      "outputs": [
        {
          "output_type": "stream",
          "name": "stdout",
          "text": [
            "Missing values in loan_outcomes:\n",
            "user_id           0\n",
            "application_at    0\n",
            "loan_outcome      0\n",
            "dtype: int64\n",
            "\n",
            "Missing values in user_attributes:\n",
            "user_id                 0\n",
            "age                     0\n",
            "cash_incoming_30days    0\n",
            "dtype: int64\n",
            "\n",
            "Missing values in gps_fixes:\n",
            "gps_fix_at           0\n",
            "server_upload_at     0\n",
            "longitude            0\n",
            "latitude             0\n",
            "accuracy             0\n",
            "altitude             0\n",
            "bearing              0\n",
            "location_provider    0\n",
            "user_id              0\n",
            "dtype: int64\n"
          ]
        }
      ]
    },
    {
      "cell_type": "markdown",
      "source": [
        "\n",
        "**Observation**: There are no missing values in any of the datasets."
      ],
      "metadata": {
        "id": "p5I6GVZZA-gP"
      }
    },
    {
      "cell_type": "code",
      "source": [
        "# Count of loan outcomes\n",
        "loan_outcomes['loan_outcome'].value_counts()"
      ],
      "metadata": {
        "colab": {
          "base_uri": "https://localhost:8080/",
          "height": 178
        },
        "id": "ruy6V4_6pwwT",
        "outputId": "31716d18-6374-4c7b-f746-12d398c9ea7b"
      },
      "execution_count": 7,
      "outputs": [
        {
          "output_type": "execute_result",
          "data": {
            "text/plain": [
              "loan_outcome\n",
              "defaulted    200\n",
              "repaid       200\n",
              "Name: count, dtype: int64"
            ],
            "text/html": [
              "<div>\n",
              "<style scoped>\n",
              "    .dataframe tbody tr th:only-of-type {\n",
              "        vertical-align: middle;\n",
              "    }\n",
              "\n",
              "    .dataframe tbody tr th {\n",
              "        vertical-align: top;\n",
              "    }\n",
              "\n",
              "    .dataframe thead th {\n",
              "        text-align: right;\n",
              "    }\n",
              "</style>\n",
              "<table border=\"1\" class=\"dataframe\">\n",
              "  <thead>\n",
              "    <tr style=\"text-align: right;\">\n",
              "      <th></th>\n",
              "      <th>count</th>\n",
              "    </tr>\n",
              "    <tr>\n",
              "      <th>loan_outcome</th>\n",
              "      <th></th>\n",
              "    </tr>\n",
              "  </thead>\n",
              "  <tbody>\n",
              "    <tr>\n",
              "      <th>defaulted</th>\n",
              "      <td>200</td>\n",
              "    </tr>\n",
              "    <tr>\n",
              "      <th>repaid</th>\n",
              "      <td>200</td>\n",
              "    </tr>\n",
              "  </tbody>\n",
              "</table>\n",
              "</div><br><label><b>dtype:</b> int64</label>"
            ]
          },
          "metadata": {},
          "execution_count": 7
        }
      ]
    },
    {
      "cell_type": "markdown",
      "source": [
        "**Observation**: There are 200 'defaulted' and 200 'repaid' loans, indicating a balanced dataset."
      ],
      "metadata": {
        "id": "YUmSWFOIBOyU"
      }
    },
    {
      "cell_type": "code",
      "source": [
        "# Describe user_attributes\n",
        "user_attributes.describe()"
      ],
      "metadata": {
        "colab": {
          "base_uri": "https://localhost:8080/",
          "height": 300
        },
        "id": "xVCJuWe3p1dz",
        "outputId": "be24b67a-d757-466b-94a9-503996d5e9dd"
      },
      "execution_count": 8,
      "outputs": [
        {
          "output_type": "execute_result",
          "data": {
            "text/plain": [
              "          user_id         age  cash_incoming_30days\n",
              "count  400.000000  400.000000            400.000000\n",
              "mean   200.500000   36.487500           7896.301075\n",
              "std    115.614301   13.243236           7037.481340\n",
              "min      1.000000   18.000000             11.900000\n",
              "25%    100.750000   27.000000           2602.472500\n",
              "50%    200.500000   34.000000           6004.240000\n",
              "75%    300.250000   44.000000          10989.405000\n",
              "max    400.000000  105.000000          41657.810000"
            ],
            "text/html": [
              "\n",
              "  <div id=\"df-9b3b020b-2d73-4d64-8a03-4bfee9c10454\" class=\"colab-df-container\">\n",
              "    <div>\n",
              "<style scoped>\n",
              "    .dataframe tbody tr th:only-of-type {\n",
              "        vertical-align: middle;\n",
              "    }\n",
              "\n",
              "    .dataframe tbody tr th {\n",
              "        vertical-align: top;\n",
              "    }\n",
              "\n",
              "    .dataframe thead th {\n",
              "        text-align: right;\n",
              "    }\n",
              "</style>\n",
              "<table border=\"1\" class=\"dataframe\">\n",
              "  <thead>\n",
              "    <tr style=\"text-align: right;\">\n",
              "      <th></th>\n",
              "      <th>user_id</th>\n",
              "      <th>age</th>\n",
              "      <th>cash_incoming_30days</th>\n",
              "    </tr>\n",
              "  </thead>\n",
              "  <tbody>\n",
              "    <tr>\n",
              "      <th>count</th>\n",
              "      <td>400.000000</td>\n",
              "      <td>400.000000</td>\n",
              "      <td>400.000000</td>\n",
              "    </tr>\n",
              "    <tr>\n",
              "      <th>mean</th>\n",
              "      <td>200.500000</td>\n",
              "      <td>36.487500</td>\n",
              "      <td>7896.301075</td>\n",
              "    </tr>\n",
              "    <tr>\n",
              "      <th>std</th>\n",
              "      <td>115.614301</td>\n",
              "      <td>13.243236</td>\n",
              "      <td>7037.481340</td>\n",
              "    </tr>\n",
              "    <tr>\n",
              "      <th>min</th>\n",
              "      <td>1.000000</td>\n",
              "      <td>18.000000</td>\n",
              "      <td>11.900000</td>\n",
              "    </tr>\n",
              "    <tr>\n",
              "      <th>25%</th>\n",
              "      <td>100.750000</td>\n",
              "      <td>27.000000</td>\n",
              "      <td>2602.472500</td>\n",
              "    </tr>\n",
              "    <tr>\n",
              "      <th>50%</th>\n",
              "      <td>200.500000</td>\n",
              "      <td>34.000000</td>\n",
              "      <td>6004.240000</td>\n",
              "    </tr>\n",
              "    <tr>\n",
              "      <th>75%</th>\n",
              "      <td>300.250000</td>\n",
              "      <td>44.000000</td>\n",
              "      <td>10989.405000</td>\n",
              "    </tr>\n",
              "    <tr>\n",
              "      <th>max</th>\n",
              "      <td>400.000000</td>\n",
              "      <td>105.000000</td>\n",
              "      <td>41657.810000</td>\n",
              "    </tr>\n",
              "  </tbody>\n",
              "</table>\n",
              "</div>\n",
              "    <div class=\"colab-df-buttons\">\n",
              "\n",
              "  <div class=\"colab-df-container\">\n",
              "    <button class=\"colab-df-convert\" onclick=\"convertToInteractive('df-9b3b020b-2d73-4d64-8a03-4bfee9c10454')\"\n",
              "            title=\"Convert this dataframe to an interactive table.\"\n",
              "            style=\"display:none;\">\n",
              "\n",
              "  <svg xmlns=\"http://www.w3.org/2000/svg\" height=\"24px\" viewBox=\"0 -960 960 960\">\n",
              "    <path d=\"M120-120v-720h720v720H120Zm60-500h600v-160H180v160Zm220 220h160v-160H400v160Zm0 220h160v-160H400v160ZM180-400h160v-160H180v160Zm440 0h160v-160H620v160ZM180-180h160v-160H180v160Zm440 0h160v-160H620v160Z\"/>\n",
              "  </svg>\n",
              "    </button>\n",
              "\n",
              "  <style>\n",
              "    .colab-df-container {\n",
              "      display:flex;\n",
              "      gap: 12px;\n",
              "    }\n",
              "\n",
              "    .colab-df-convert {\n",
              "      background-color: #E8F0FE;\n",
              "      border: none;\n",
              "      border-radius: 50%;\n",
              "      cursor: pointer;\n",
              "      display: none;\n",
              "      fill: #1967D2;\n",
              "      height: 32px;\n",
              "      padding: 0 0 0 0;\n",
              "      width: 32px;\n",
              "    }\n",
              "\n",
              "    .colab-df-convert:hover {\n",
              "      background-color: #E2EBFA;\n",
              "      box-shadow: 0px 1px 2px rgba(60, 64, 67, 0.3), 0px 1px 3px 1px rgba(60, 64, 67, 0.15);\n",
              "      fill: #174EA6;\n",
              "    }\n",
              "\n",
              "    .colab-df-buttons div {\n",
              "      margin-bottom: 4px;\n",
              "    }\n",
              "\n",
              "    [theme=dark] .colab-df-convert {\n",
              "      background-color: #3B4455;\n",
              "      fill: #D2E3FC;\n",
              "    }\n",
              "\n",
              "    [theme=dark] .colab-df-convert:hover {\n",
              "      background-color: #434B5C;\n",
              "      box-shadow: 0px 1px 3px 1px rgba(0, 0, 0, 0.15);\n",
              "      filter: drop-shadow(0px 1px 2px rgba(0, 0, 0, 0.3));\n",
              "      fill: #FFFFFF;\n",
              "    }\n",
              "  </style>\n",
              "\n",
              "    <script>\n",
              "      const buttonEl =\n",
              "        document.querySelector('#df-9b3b020b-2d73-4d64-8a03-4bfee9c10454 button.colab-df-convert');\n",
              "      buttonEl.style.display =\n",
              "        google.colab.kernel.accessAllowed ? 'block' : 'none';\n",
              "\n",
              "      async function convertToInteractive(key) {\n",
              "        const element = document.querySelector('#df-9b3b020b-2d73-4d64-8a03-4bfee9c10454');\n",
              "        const dataTable =\n",
              "          await google.colab.kernel.invokeFunction('convertToInteractive',\n",
              "                                                    [key], {});\n",
              "        if (!dataTable) return;\n",
              "\n",
              "        const docLinkHtml = 'Like what you see? Visit the ' +\n",
              "          '<a target=\"_blank\" href=https://colab.research.google.com/notebooks/data_table.ipynb>data table notebook</a>'\n",
              "          + ' to learn more about interactive tables.';\n",
              "        element.innerHTML = '';\n",
              "        dataTable['output_type'] = 'display_data';\n",
              "        await google.colab.output.renderOutput(dataTable, element);\n",
              "        const docLink = document.createElement('div');\n",
              "        docLink.innerHTML = docLinkHtml;\n",
              "        element.appendChild(docLink);\n",
              "      }\n",
              "    </script>\n",
              "  </div>\n",
              "\n",
              "\n",
              "<div id=\"df-9d9551c0-c03e-46e2-bb6e-50fe2894c260\">\n",
              "  <button class=\"colab-df-quickchart\" onclick=\"quickchart('df-9d9551c0-c03e-46e2-bb6e-50fe2894c260')\"\n",
              "            title=\"Suggest charts\"\n",
              "            style=\"display:none;\">\n",
              "\n",
              "<svg xmlns=\"http://www.w3.org/2000/svg\" height=\"24px\"viewBox=\"0 0 24 24\"\n",
              "     width=\"24px\">\n",
              "    <g>\n",
              "        <path d=\"M19 3H5c-1.1 0-2 .9-2 2v14c0 1.1.9 2 2 2h14c1.1 0 2-.9 2-2V5c0-1.1-.9-2-2-2zM9 17H7v-7h2v7zm4 0h-2V7h2v10zm4 0h-2v-4h2v4z\"/>\n",
              "    </g>\n",
              "</svg>\n",
              "  </button>\n",
              "\n",
              "<style>\n",
              "  .colab-df-quickchart {\n",
              "      --bg-color: #E8F0FE;\n",
              "      --fill-color: #1967D2;\n",
              "      --hover-bg-color: #E2EBFA;\n",
              "      --hover-fill-color: #174EA6;\n",
              "      --disabled-fill-color: #AAA;\n",
              "      --disabled-bg-color: #DDD;\n",
              "  }\n",
              "\n",
              "  [theme=dark] .colab-df-quickchart {\n",
              "      --bg-color: #3B4455;\n",
              "      --fill-color: #D2E3FC;\n",
              "      --hover-bg-color: #434B5C;\n",
              "      --hover-fill-color: #FFFFFF;\n",
              "      --disabled-bg-color: #3B4455;\n",
              "      --disabled-fill-color: #666;\n",
              "  }\n",
              "\n",
              "  .colab-df-quickchart {\n",
              "    background-color: var(--bg-color);\n",
              "    border: none;\n",
              "    border-radius: 50%;\n",
              "    cursor: pointer;\n",
              "    display: none;\n",
              "    fill: var(--fill-color);\n",
              "    height: 32px;\n",
              "    padding: 0;\n",
              "    width: 32px;\n",
              "  }\n",
              "\n",
              "  .colab-df-quickchart:hover {\n",
              "    background-color: var(--hover-bg-color);\n",
              "    box-shadow: 0 1px 2px rgba(60, 64, 67, 0.3), 0 1px 3px 1px rgba(60, 64, 67, 0.15);\n",
              "    fill: var(--button-hover-fill-color);\n",
              "  }\n",
              "\n",
              "  .colab-df-quickchart-complete:disabled,\n",
              "  .colab-df-quickchart-complete:disabled:hover {\n",
              "    background-color: var(--disabled-bg-color);\n",
              "    fill: var(--disabled-fill-color);\n",
              "    box-shadow: none;\n",
              "  }\n",
              "\n",
              "  .colab-df-spinner {\n",
              "    border: 2px solid var(--fill-color);\n",
              "    border-color: transparent;\n",
              "    border-bottom-color: var(--fill-color);\n",
              "    animation:\n",
              "      spin 1s steps(1) infinite;\n",
              "  }\n",
              "\n",
              "  @keyframes spin {\n",
              "    0% {\n",
              "      border-color: transparent;\n",
              "      border-bottom-color: var(--fill-color);\n",
              "      border-left-color: var(--fill-color);\n",
              "    }\n",
              "    20% {\n",
              "      border-color: transparent;\n",
              "      border-left-color: var(--fill-color);\n",
              "      border-top-color: var(--fill-color);\n",
              "    }\n",
              "    30% {\n",
              "      border-color: transparent;\n",
              "      border-left-color: var(--fill-color);\n",
              "      border-top-color: var(--fill-color);\n",
              "      border-right-color: var(--fill-color);\n",
              "    }\n",
              "    40% {\n",
              "      border-color: transparent;\n",
              "      border-right-color: var(--fill-color);\n",
              "      border-top-color: var(--fill-color);\n",
              "    }\n",
              "    60% {\n",
              "      border-color: transparent;\n",
              "      border-right-color: var(--fill-color);\n",
              "    }\n",
              "    80% {\n",
              "      border-color: transparent;\n",
              "      border-right-color: var(--fill-color);\n",
              "      border-bottom-color: var(--fill-color);\n",
              "    }\n",
              "    90% {\n",
              "      border-color: transparent;\n",
              "      border-bottom-color: var(--fill-color);\n",
              "    }\n",
              "  }\n",
              "</style>\n",
              "\n",
              "  <script>\n",
              "    async function quickchart(key) {\n",
              "      const quickchartButtonEl =\n",
              "        document.querySelector('#' + key + ' button');\n",
              "      quickchartButtonEl.disabled = true;  // To prevent multiple clicks.\n",
              "      quickchartButtonEl.classList.add('colab-df-spinner');\n",
              "      try {\n",
              "        const charts = await google.colab.kernel.invokeFunction(\n",
              "            'suggestCharts', [key], {});\n",
              "      } catch (error) {\n",
              "        console.error('Error during call to suggestCharts:', error);\n",
              "      }\n",
              "      quickchartButtonEl.classList.remove('colab-df-spinner');\n",
              "      quickchartButtonEl.classList.add('colab-df-quickchart-complete');\n",
              "    }\n",
              "    (() => {\n",
              "      let quickchartButtonEl =\n",
              "        document.querySelector('#df-9d9551c0-c03e-46e2-bb6e-50fe2894c260 button');\n",
              "      quickchartButtonEl.style.display =\n",
              "        google.colab.kernel.accessAllowed ? 'block' : 'none';\n",
              "    })();\n",
              "  </script>\n",
              "</div>\n",
              "\n",
              "    </div>\n",
              "  </div>\n"
            ],
            "application/vnd.google.colaboratory.intrinsic+json": {
              "type": "dataframe",
              "summary": "{\n  \"name\": \"user_attributes\",\n  \"rows\": 8,\n  \"fields\": [\n    {\n      \"column\": \"user_id\",\n      \"properties\": {\n        \"dtype\": \"number\",\n        \"std\": 143.85727156983504,\n        \"min\": 1.0,\n        \"max\": 400.0,\n        \"num_unique_values\": 6,\n        \"samples\": [\n          400.0,\n          200.5,\n          300.25\n        ],\n        \"semantic_type\": \"\",\n        \"description\": \"\"\n      }\n    },\n    {\n      \"column\": \"age\",\n      \"properties\": {\n        \"dtype\": \"number\",\n        \"std\": 130.5274202878203,\n        \"min\": 13.243236085074235,\n        \"max\": 400.0,\n        \"num_unique_values\": 8,\n        \"samples\": [\n          36.4875,\n          34.0,\n          400.0\n        ],\n        \"semantic_type\": \"\",\n        \"description\": \"\"\n      }\n    },\n    {\n      \"column\": \"cash_incoming_30days\",\n      \"properties\": {\n        \"dtype\": \"number\",\n        \"std\": 13509.59576077332,\n        \"min\": 11.9,\n        \"max\": 41657.81,\n        \"num_unique_values\": 8,\n        \"samples\": [\n          7896.301075,\n          6004.24,\n          400.0\n        ],\n        \"semantic_type\": \"\",\n        \"description\": \"\"\n      }\n    }\n  ]\n}"
            }
          },
          "metadata": {},
          "execution_count": 8
        }
      ]
    },
    {
      "cell_type": "code",
      "source": [
        "# Merge loan_outcomes with user_attributes\n",
        "data = pd.merge(loan_outcomes, user_attributes, on='user_id')\n",
        "\n",
        "# Encode loan_outcome\n",
        "data['loan_outcome_encoded'] = data['loan_outcome'].map({'repaid': 1, 'defaulted': 0})\n",
        "\n",
        "# Correlation matrix\n",
        "corr = data[['age', 'cash_incoming_30days', 'loan_outcome_encoded']].corr()\n",
        "sns.heatmap(corr, annot=True)\n",
        "plt.title('Correlation Matrix')\n",
        "plt.show()"
      ],
      "metadata": {
        "colab": {
          "base_uri": "https://localhost:8080/",
          "height": 622
        },
        "id": "_wWxLY7Fp3y-",
        "outputId": "186f8a03-92cd-452b-c95a-05acfc95b240"
      },
      "execution_count": 9,
      "outputs": [
        {
          "output_type": "display_data",
          "data": {
            "text/plain": [
              "<Figure size 640x480 with 2 Axes>"
            ],
            "image/png": "[encoded data removed]"
          },
          "metadata": {}
        }
      ]
    },
    {
      "cell_type": "markdown",
      "source": [
        "**Observation**: There may be some correlation between cash_incoming_30days and loan repayment."
      ],
      "metadata": {
        "id": "R-purXP-BXOh"
      }
    },
    {
      "cell_type": "markdown",
      "source": [
        "## **4. Feature Engineering**\n",
        "## GPS-Based Features\n",
        "**Note: We'll create features based on the GPS data.**"
      ],
      "metadata": {
        "id": "xcSo-SEMBs2W"
      }
    },
    {
      "cell_type": "code",
      "source": [
        "# Number of GPS fixes per user\n",
        "gps_fix_count = gps_fixes.groupby('user_id').size().reset_index(name='gps_fix_count')\n",
        "\n",
        "# Unique locations visited per user\n",
        "gps_fixes['lat_lon'] = gps_fixes['latitude'].round(4).astype(str) + \"_\" + gps_fixes['longitude'].round(4).astype(str)\n",
        "unique_locations = gps_fixes.groupby('user_id')['lat_lon'].nunique().reset_index(name='unique_locations_count')\n",
        "\n",
        "# Average time between app opens per user\n",
        "gps_fixes_sorted = gps_fixes.sort_values(['user_id', 'gps_fix_at'])\n",
        "gps_fixes_sorted['time_diff'] = gps_fixes_sorted.groupby('user_id')['gps_fix_at'].diff().dt.total_seconds()\n",
        "avg_time_between_opens = gps_fixes_sorted.groupby('user_id')['time_diff'].mean().reset_index(name='avg_time_between_opens')\n",
        "\n",
        "# Nighttime activity ratio\n",
        "gps_fixes['hour'] = gps_fixes['gps_fix_at'].dt.hour\n",
        "gps_fixes['is_night'] = gps_fixes['hour'].apply(lambda x: 1 if x >= 20 or x <= 6 else 0)\n",
        "night_usage_ratio = gps_fixes.groupby('user_id')['is_night'].mean().reset_index(name='night_usage_ratio')\n",
        "\n",
        "# Merge GPS features\n",
        "gps_features = gps_fix_count.merge(unique_locations, on='user_id', how='left')\n",
        "gps_features = gps_features.merge(avg_time_between_opens, on='user_id', how='left')\n",
        "gps_features = gps_features.merge(night_usage_ratio, on='user_id', how='left')"
      ],
      "metadata": {
        "id": "6gR3-pUDp-To"
      },
      "execution_count": 10,
      "outputs": []
    },
    {
      "cell_type": "markdown",
      "source": [
        "Cluster Analysis"
      ],
      "metadata": {
        "id": "LNSR6pYtB2-W"
      }
    },
    {
      "cell_type": "code",
      "source": [
        "# Cluster locations to identify significant places (e.g., home, work)\n",
        "from sklearn.cluster import DBSCAN\n",
        "import numpy as np\n",
        "\n",
        "# Prepare data for clustering\n",
        "coords = gps_fixes[['latitude', 'longitude']].values\n",
        "kms_per_radian = 6371.0088\n",
        "epsilon = 0.5 / kms_per_radian  # 0.5 km radius\n",
        "\n",
        "# Apply DBSCAN clustering\n",
        "db = DBSCAN(eps=epsilon, min_samples=1, algorithm='ball_tree', metric='haversine').fit(np.radians(coords))\n",
        "gps_fixes['cluster'] = db.labels_\n",
        "\n",
        "# Number of clusters per user\n",
        "num_clusters = gps_fixes.groupby('user_id')['cluster'].nunique().reset_index(name='num_clusters')\n",
        "\n",
        "# Merge with GPS features\n",
        "gps_features = gps_features.merge(num_clusters, on='user_id', how='left')"
      ],
      "metadata": {
        "id": "zg8ayfoRqChC"
      },
      "execution_count": 11,
      "outputs": []
    },
    {
      "cell_type": "code",
      "source": [
        "# Merge data with GPS features\n",
        "data = data.merge(gps_features, on='user_id', how='left')\n",
        "\n",
        "# Fill missing GPS features with zeros or appropriate values\n",
        "gps_feature_cols = ['gps_fix_count', 'unique_locations_count', 'avg_time_between_opens', 'night_usage_ratio', 'num_clusters']\n",
        "data[gps_feature_cols] = data[gps_feature_cols].fillna(0)"
      ],
      "metadata": {
        "id": "NIB4bXiQqFwY"
      },
      "execution_count": 12,
      "outputs": []
    },
    {
      "cell_type": "markdown",
      "source": [
        "### Feature Transformations"
      ],
      "metadata": {
        "id": "cVZRPeyLCBfo"
      }
    },
    {
      "cell_type": "code",
      "source": [
        "# Log transformation of cash_incoming_30days to handle skewness\n",
        "data['log_cash_incoming_30days'] = np.log1p(data['cash_incoming_30days'])\n",
        "\n",
        "# Income brackets (categorical feature)\n",
        "data['income_bracket'] = pd.qcut(data['cash_incoming_30days'], q=4, labels=['Low', 'Medium', 'High', 'Very High'])\n",
        "\n",
        "# One-hot encode income_bracket\n",
        "data = pd.get_dummies(data, columns=['income_bracket'], drop_first=True)"
      ],
      "metadata": {
        "id": "RJlgY_cgqIes"
      },
      "execution_count": 13,
      "outputs": []
    },
    {
      "cell_type": "markdown",
      "source": [
        "## **Data Preprocessing**"
      ],
      "metadata": {
        "id": "NOUENBGcCGWI"
      }
    },
    {
      "cell_type": "code",
      "source": [
        "# Define target variable\n",
        "y = data['loan_outcome_encoded']\n",
        "\n",
        "# Define feature set\n",
        "feature_cols = ['age',\n",
        "                'log_cash_incoming_30days',\n",
        "                'gps_fix_count',\n",
        "                'unique_locations_count',\n",
        "                'avg_time_between_opens',\n",
        "                'night_usage_ratio',\n",
        "                'num_clusters',\n",
        "                'income_bracket_Medium',\n",
        "                'income_bracket_High',\n",
        "                'income_bracket_Very High']\n",
        "\n",
        "X = data[feature_cols]"
      ],
      "metadata": {
        "id": "xEyFq-sUqKYb"
      },
      "execution_count": 14,
      "outputs": []
    },
    {
      "cell_type": "code",
      "source": [
        "# Scale numerical features\n",
        "scaler = StandardScaler()\n",
        "numerical_cols = ['age', 'log_cash_incoming_30days', 'gps_fix_count',\n",
        "                  'unique_locations_count', 'avg_time_between_opens',\n",
        "                  'night_usage_ratio', 'num_clusters']\n",
        "X[numerical_cols] = scaler.fit_transform(X[numerical_cols])"
      ],
      "metadata": {
        "id": "QJoT9OWEqLq9"
      },
      "execution_count": 15,
      "outputs": []
    },
    {
      "cell_type": "code",
      "source": [
        "# Split the data\n",
        "X_train, X_test, y_train, y_test = train_test_split(X, y, test_size=0.2, stratify=y, random_state=42)"
      ],
      "metadata": {
        "id": "hPUclF5xqNNm"
      },
      "execution_count": 16,
      "outputs": []
    },
    {
      "cell_type": "markdown",
      "source": [
        "## **Model Training and Hyperparameter Tuning**"
      ],
      "metadata": {
        "id": "T957e6jOCULD"
      }
    },
    {
      "cell_type": "markdown",
      "source": [
        "## **Random Forest Classifier**\n",
        "Hyperparameter Tuning with GridSearchCV"
      ],
      "metadata": {
        "id": "TjZ-4ntlCXSn"
      }
    },
    {
      "cell_type": "code",
      "source": [
        "# Define parameter grid\n",
        "rf_param_grid = {\n",
        "    'n_estimators': [50, 100, 200],\n",
        "    'max_depth': [None, 10, 20],\n",
        "    'min_samples_split': [2, 5],\n",
        "    'min_samples_leaf': [1, 2],\n",
        "    'bootstrap': [True, False]\n",
        "}\n",
        "\n",
        "# Initialize Random Forest classifier\n",
        "rf = RandomForestClassifier(random_state=42)\n",
        "\n",
        "# Initialize GridSearchCV\n",
        "rf_grid_search = GridSearchCV(\n",
        "    estimator=rf,\n",
        "    param_grid=rf_param_grid,\n",
        "    scoring='roc_auc',\n",
        "    cv=5,\n",
        "    n_jobs=-1,\n",
        "    verbose=1\n",
        ")\n",
        "\n",
        "# Fit GridSearchCV\n",
        "rf_grid_search.fit(X_train, y_train)\n",
        "\n",
        "# Best parameters\n",
        "print(\"Best parameters for Random Forest:\")\n",
        "print(rf_grid_search.best_params_)"
      ],
      "metadata": {
        "colab": {
          "base_uri": "https://localhost:8080/"
        },
        "id": "t0G3N36UqPUD",
        "outputId": "36e9b363-c708-4628-918d-6d06a0fd9d95"
      },
      "execution_count": 17,
      "outputs": [
        {
          "output_type": "stream",
          "name": "stdout",
          "text": [
            "Fitting 5 folds for each of 72 candidates, totalling 360 fits\n",
            "Best parameters for Random Forest:\n",
            "{'bootstrap': True, 'max_depth': 10, 'min_samples_leaf': 2, 'min_samples_split': 2, 'n_estimators': 50}\n"
          ]
        }
      ]
    },
    {
      "cell_type": "code",
      "source": [
        "# Train Random Forest with best parameters\n",
        "best_rf = rf_grid_search.best_estimator_\n",
        "\n",
        "# Make predictions\n",
        "rf_y_pred = best_rf.predict(X_test)\n",
        "rf_y_prob = best_rf.predict_proba(X_test)[:, 1]\n",
        "\n",
        "# Evaluate the model\n",
        "print(\"\\nRandom Forest Classification Report:\")\n",
        "print(classification_report(y_test, rf_y_pred))\n",
        "\n",
        "rf_roc_auc = roc_auc_score(y_test, rf_y_prob)\n",
        "print(f\"Random Forest ROC AUC Score: {rf_roc_auc}\")"
      ],
      "metadata": {
        "colab": {
          "base_uri": "https://localhost:8080/"
        },
        "id": "cFKHQQ4eqc3F",
        "outputId": "8288113b-1144-4ca3-b6d4-b349d159d6d4"
      },
      "execution_count": 18,
      "outputs": [
        {
          "output_type": "stream",
          "name": "stdout",
          "text": [
            "\n",
            "Random Forest Classification Report:\n",
            "              precision    recall  f1-score   support\n",
            "\n",
            "           0       0.65      0.65      0.65        40\n",
            "           1       0.65      0.65      0.65        40\n",
            "\n",
            "    accuracy                           0.65        80\n",
            "   macro avg       0.65      0.65      0.65        80\n",
            "weighted avg       0.65      0.65      0.65        80\n",
            "\n",
            "Random Forest ROC AUC Score: 0.7125\n"
          ]
        }
      ]
    },
    {
      "cell_type": "markdown",
      "source": [
        "## **CatBoost Classifier**\n",
        "Hyperparameter Tuning with GridSearchCV"
      ],
      "metadata": {
        "id": "zSU6l3LrCdlR"
      }
    },
    {
      "cell_type": "code",
      "source": [
        "# Define parameter grid\n",
        "cb_param_grid = {\n",
        "    'iterations': [100, 200, 500],\n",
        "    'learning_rate': [0.01, 0.05, 0.1],\n",
        "    'depth': [4, 6, 8],\n",
        "}\n",
        "\n",
        "# Initialize CatBoost classifier\n",
        "cb = CatBoostClassifier(random_seed=42, verbose=0)\n",
        "\n",
        "# Initialize GridSearchCV\n",
        "cb_grid_search = GridSearchCV(\n",
        "    estimator=cb,\n",
        "    param_grid=cb_param_grid,\n",
        "    scoring='roc_auc',\n",
        "    cv=5,\n",
        "    n_jobs=-1,\n",
        "    verbose=1\n",
        ")\n",
        "\n",
        "# Fit GridSearchCV\n",
        "cb_grid_search.fit(X_train, y_train)\n",
        "\n",
        "# Best parameters\n",
        "print(\"\\nBest parameters for CatBoost:\")\n",
        "print(cb_grid_search.best_params_)"
      ],
      "metadata": {
        "colab": {
          "base_uri": "https://localhost:8080/"
        },
        "id": "5KxNiBjyqvw-",
        "outputId": "0d1ae81d-ab5f-4599-c774-c1cb45bb5f5d"
      },
      "execution_count": 19,
      "outputs": [
        {
          "output_type": "stream",
          "name": "stdout",
          "text": [
            "Fitting 5 folds for each of 27 candidates, totalling 135 fits\n",
            "\n",
            "Best parameters for CatBoost:\n",
            "{'depth': 4, 'iterations': 200, 'learning_rate': 0.01}\n"
          ]
        }
      ]
    },
    {
      "cell_type": "code",
      "source": [
        "# Train CatBoost with best parameters\n",
        "best_cb = cb_grid_search.best_estimator_\n",
        "\n",
        "# Make predictions\n",
        "cb_y_pred = best_cb.predict(X_test)\n",
        "cb_y_prob = best_cb.predict_proba(X_test)[:, 1]\n",
        "\n",
        "# Evaluate the model\n",
        "print(\"\\nCatBoost Classification Report:\")\n",
        "print(classification_report(y_test, cb_y_pred))\n",
        "\n",
        "cb_roc_auc = roc_auc_score(y_test, cb_y_prob)\n",
        "print(f\"CatBoost ROC AUC Score: {cb_roc_auc}\")"
      ],
      "metadata": {
        "colab": {
          "base_uri": "https://localhost:8080/"
        },
        "id": "gdQ3-ROzqz5z",
        "outputId": "214afe03-3767-492d-87ed-3a7f0b68ae1e"
      },
      "execution_count": 20,
      "outputs": [
        {
          "output_type": "stream",
          "name": "stdout",
          "text": [
            "\n",
            "CatBoost Classification Report:\n",
            "              precision    recall  f1-score   support\n",
            "\n",
            "           0       0.68      0.68      0.68        40\n",
            "           1       0.68      0.68      0.68        40\n",
            "\n",
            "    accuracy                           0.68        80\n",
            "   macro avg       0.68      0.68      0.68        80\n",
            "weighted avg       0.68      0.68      0.68        80\n",
            "\n",
            "CatBoost ROC AUC Score: 0.73375\n"
          ]
        }
      ]
    },
    {
      "cell_type": "markdown",
      "source": [
        "## **Neural Network (MLPClassifier)**\n",
        "Hyperparameter Tuning with GridSearchCV"
      ],
      "metadata": {
        "id": "zJXk8l6fCjXX"
      }
    },
    {
      "cell_type": "code",
      "source": [
        "# Define parameter grid\n",
        "mlp_param_grid = {\n",
        "    'hidden_layer_sizes': [(50,), (100,), (50,50)],\n",
        "    'activation': ['tanh', 'relu'],\n",
        "    'solver': ['adam'],\n",
        "    'alpha': [0.0001, 0.001],\n",
        "    'learning_rate': ['constant','adaptive'],\n",
        "}\n",
        "\n",
        "# Initialize MLPClassifier\n",
        "mlp = MLPClassifier(max_iter=500, random_state=42)\n",
        "\n",
        "# Initialize GridSearchCV\n",
        "mlp_grid_search = GridSearchCV(\n",
        "    estimator=mlp,\n",
        "    param_grid=mlp_param_grid,\n",
        "    scoring='roc_auc',\n",
        "    cv=5,\n",
        "    n_jobs=-1,\n",
        "    verbose=1\n",
        ")\n",
        "\n",
        "# Fit GridSearchCV\n",
        "mlp_grid_search.fit(X_train, y_train)\n",
        "\n",
        "# Best parameters\n",
        "print(\"\\nBest parameters for Neural Network:\")\n",
        "print(mlp_grid_search.best_params_)"
      ],
      "metadata": {
        "colab": {
          "base_uri": "https://localhost:8080/"
        },
        "id": "e2kYRuvNq3dB",
        "outputId": "514eb40a-56d2-4a80-d023-bb13513d5d79"
      },
      "execution_count": 21,
      "outputs": [
        {
          "output_type": "stream",
          "name": "stdout",
          "text": [
            "Fitting 5 folds for each of 24 candidates, totalling 120 fits\n",
            "\n",
            "Best parameters for Neural Network:\n",
            "{'activation': 'tanh', 'alpha': 0.0001, 'hidden_layer_sizes': (50,), 'learning_rate': 'constant', 'solver': 'adam'}\n"
          ]
        }
      ]
    },
    {
      "cell_type": "code",
      "source": [
        "# Train MLPClassifier with best parameters\n",
        "best_mlp = mlp_grid_search.best_estimator_\n",
        "\n",
        "# Make predictions\n",
        "mlp_y_pred = best_mlp.predict(X_test)\n",
        "mlp_y_prob = best_mlp.predict_proba(X_test)[:, 1]\n",
        "\n",
        "# Evaluate the model\n",
        "print(\"\\nNeural Network Classification Report:\")\n",
        "print(classification_report(y_test, mlp_y_pred))\n",
        "\n",
        "mlp_roc_auc = roc_auc_score(y_test, mlp_y_prob)\n",
        "print(f\"Neural Network ROC AUC Score: {mlp_roc_auc}\")"
      ],
      "metadata": {
        "colab": {
          "base_uri": "https://localhost:8080/"
        },
        "id": "iDqI9JKlq54n",
        "outputId": "e748b15a-c30d-482b-a7cb-f6864b679f0e"
      },
      "execution_count": 22,
      "outputs": [
        {
          "output_type": "stream",
          "name": "stdout",
          "text": [
            "\n",
            "Neural Network Classification Report:\n",
            "              precision    recall  f1-score   support\n",
            "\n",
            "           0       0.65      0.55      0.59        40\n",
            "           1       0.61      0.70      0.65        40\n",
            "\n",
            "    accuracy                           0.62        80\n",
            "   macro avg       0.63      0.62      0.62        80\n",
            "weighted avg       0.63      0.62      0.62        80\n",
            "\n",
            "Neural Network ROC AUC Score: 0.71\n"
          ]
        }
      ]
    },
    {
      "cell_type": "code",
      "source": [
        "print(f\"Random Forest ROC AUC Score: {rf_roc_auc}\")\n",
        "print(f\"CatBoost ROC AUC Score: {cb_roc_auc}\")\n",
        "print(f\"Neural Network ROC AUC Score: {mlp_roc_auc}\")"
      ],
      "metadata": {
        "colab": {
          "base_uri": "https://localhost:8080/"
        },
        "id": "_ATnJ049q64x",
        "outputId": "7802cfb0-7532-47a3-cb42-bd80ac28a2b5"
      },
      "execution_count": 23,
      "outputs": [
        {
          "output_type": "stream",
          "name": "stdout",
          "text": [
            "Random Forest ROC AUC Score: 0.7125\n",
            "CatBoost ROC AUC Score: 0.73375\n",
            "Neural Network ROC AUC Score: 0.71\n"
          ]
        }
      ]
    },
    {
      "cell_type": "code",
      "source": [
        "from sklearn.metrics import roc_curve\n",
        "\n",
        "# Random Forest ROC Curve\n",
        "rf_fpr, rf_tpr, _ = roc_curve(y_test, rf_y_prob)\n",
        "# CatBoost ROC Curve\n",
        "cb_fpr, cb_tpr, _ = roc_curve(y_test, cb_y_prob)\n",
        "# Neural Network ROC Curve\n",
        "mlp_fpr, mlp_tpr, _ = roc_curve(y_test, mlp_y_prob)\n",
        "\n",
        "# Plot ROC Curves\n",
        "plt.figure(figsize=(8,6))\n",
        "plt.plot(rf_fpr, rf_tpr, label=f'Random Forest (AUC = {rf_roc_auc:.2f})')\n",
        "plt.plot(cb_fpr, cb_tpr, label=f'CatBoost (AUC = {cb_roc_auc:.2f})')\n",
        "plt.plot(mlp_fpr, mlp_tpr, label=f'Neural Network (AUC = {mlp_roc_auc:.2f})')\n",
        "plt.plot([0,1], [0,1], 'k--')\n",
        "plt.xlabel('False Positive Rate')\n",
        "plt.ylabel('True Positive Rate')\n",
        "plt.title('ROC Curves')\n",
        "plt.legend()\n",
        "plt.show()"
      ],
      "metadata": {
        "colab": {
          "base_uri": "https://localhost:8080/",
          "height": 527
        },
        "id": "dAlW7V2frPZ_",
        "outputId": "a6d8ce88-7196-4346-9611-e0082eea1cef"
      },
      "execution_count": 24,
      "outputs": [
        {
          "output_type": "display_data",
          "data": {
            "text/plain": [
              "<Figure size 800x600 with 1 Axes>"
            ],
            "image/png": "[encoded data removed]"
          },
          "metadata": {}
        }
      ]
    },
    {
      "cell_type": "code",
      "source": [
        "# Random Forest Feature Importance\n",
        "rf_importances = pd.Series(best_rf.feature_importances_, index=feature_cols)\n",
        "rf_importances.sort_values().plot(kind='barh')\n",
        "plt.title('Random Forest Feature Importance')\n",
        "plt.show()"
      ],
      "metadata": {
        "colab": {
          "base_uri": "https://localhost:8080/",
          "height": 410
        },
        "id": "6_mpISUarRsb",
        "outputId": "9f13e2f5-55a9-45f4-f74e-4aeeafa4746f"
      },
      "execution_count": 25,
      "outputs": [
        {
          "output_type": "display_data",
          "data": {
            "text/plain": [
              "<Figure size 640x480 with 1 Axes>"
            ],
            "image/png": "[encoded data removed]"
          },
          "metadata": {}
        }
      ]
    },
    {
      "cell_type": "code",
      "source": [
        "# CatBoost Feature Importance\n",
        "cb_importances = pd.Series(best_cb.get_feature_importance(), index=feature_cols)\n",
        "cb_importances.sort_values().plot(kind='barh')\n",
        "plt.title('CatBoost Feature Importance')\n",
        "plt.show()"
      ],
      "metadata": {
        "colab": {
          "base_uri": "https://localhost:8080/",
          "height": 472
        },
        "id": "66xQw1dIrTHw",
        "outputId": "97f71289-c574-40a6-8278-833c6f708797"
      },
      "execution_count": 26,
      "outputs": [
        {
          "output_type": "display_data",
          "data": {
            "text/plain": [
              "<Figure size 640x480 with 1 Axes>"
            ],
            "image/png": "[encoded data removed]"
          },
          "metadata": {}
        }
      ]
    },
    {
      "cell_type": "markdown",
      "source": [
        "## **Conclusion and Next Steps**\n",
        "### **Observations:**\n",
        "\n",
        "**Model Performance:**\n",
        "\n",
        "Compare the ROC AUC scores and select the best-performing model.\n",
        "**CatBoost** may perform better due to their ability to capture non-linear relationships.\n",
        "**Important Features:**\n",
        "\n",
        "**age** (after transformation) is a significant predictor.\n",
        "GPS-based features like **gps_fix_count, unique_locations_count, avg_time_between_open** contribute to the model's predictive power."
      ],
      "metadata": {
        "id": "1fhcgV3BDSy7"
      }
    },
    {
      "cell_type": "markdown",
      "source": [
        "## **Save the Best Model**"
      ],
      "metadata": {
        "id": "qkswYsZdEJLI"
      }
    },
    {
      "cell_type": "code",
      "source": [
        "import joblib\n",
        "\n",
        "# Save the scaler\n",
        "joblib.dump(scaler, 'scaler.pkl')\n",
        "\n",
        "# Save the trained CatBoost model (already done previously)\n",
        "joblib.dump(best_cb, 'loan_default_model_cb.pkl')"
      ],
      "metadata": {
        "colab": {
          "base_uri": "https://localhost:8080/"
        },
        "id": "tOK-5HYXrXru",
        "outputId": "d16796f6-b648-4807-8001-e031ea023433"
      },
      "execution_count": 29,
      "outputs": [
        {
          "output_type": "execute_result",
          "data": {
            "text/plain": [
              "['loan_default_model_cb.pkl']"
            ]
          },
          "metadata": {},
          "execution_count": 29
        }
      ]
    }
  ]
}